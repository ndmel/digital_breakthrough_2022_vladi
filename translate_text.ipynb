{
 "cells": [
  {
   "cell_type": "code",
   "execution_count": 19,
   "metadata": {},
   "outputs": [
    {
     "name": "stdout",
     "output_type": "stream",
     "text": [
      "The autoreload extension is already loaded. To reload it, use:\n",
      "  %reload_ext autoreload\n"
     ]
    }
   ],
   "source": [
    "%load_ext autoreload\n",
    "%autoreload 2\n",
    "\n",
    "import tqdm\n",
    "import numpy as np\n",
    "import pandas as pd\n",
    "import seaborn as sns\n",
    "import matplotlib.pyplot as plt\n",
    "\n",
    "from sklearn.model_selection import train_test_split, KFold, TimeSeriesSplit\n",
    "from sklearn.metrics import r2_score, mean_absolute_error\n",
    "\n",
    "import catboost as ctb\n",
    "from catboost import CatBoostRegressor, cv, Pool\n",
    "from catboost.utils import select_threshold, get_fpr_curve, get_roc_curve\n",
    "\n",
    "from sklearn.feature_extraction.text import TfidfVectorizer\n",
    "from sklearn.metrics.pairwise import linear_kernel\n",
    "from nltk import download\n",
    "from nltk.corpus import stopwords\n",
    "from pymystem3 import Mystem\n",
    "import re\n",
    "import gensim\n",
    "from fse import IndexedList\n",
    "from fse.models import Average\n",
    "from gensim.models import KeyedVectors\n",
    "\n",
    "from sklearn.svm import SVR\n",
    "from sklearn.linear_model import LinearRegression, Lasso, Ridge, ElasticNet\n",
    "from sklearn.model_selection import GridSearchCV\n",
    "\n",
    "from translate import Translator\n",
    "from nltk.stem import SnowballStemmer\n",
    "from langdetect import detect\n",
    "from deep_translator import GoogleTranslator\n",
    "\n",
    "bad_symbols_re = re.compile('[,.«»!\"#$%&\\'()*+/:;<=>?@[\\\\]^_`{|}~]')\n",
    "stopwords = stopwords.words(['russian', 'english'])\n",
    "mystem = Mystem()\n",
    "\n",
    "import sys\n",
    "sys.path.append(\"/data1/vovan/shared_code/\")\n",
    "import shared_utils\n",
    "import utils\n",
    "\n",
    "%matplotlib inline\n",
    "pd.set_option('max_column', None)"
   ]
  },
  {
   "cell_type": "code",
   "execution_count": 48,
   "metadata": {},
   "outputs": [
    {
     "data": {
      "text/html": [
       "<div>\n",
       "<style scoped>\n",
       "    .dataframe tbody tr th:only-of-type {\n",
       "        vertical-align: middle;\n",
       "    }\n",
       "\n",
       "    .dataframe tbody tr th {\n",
       "        vertical-align: top;\n",
       "    }\n",
       "\n",
       "    .dataframe thead th {\n",
       "        text-align: right;\n",
       "    }\n",
       "</style>\n",
       "<table border=\"1\" class=\"dataframe\">\n",
       "  <thead>\n",
       "    <tr style=\"text-align: right;\">\n",
       "      <th></th>\n",
       "      <th>id</th>\n",
       "      <th>summary</th>\n",
       "      <th>comments</th>\n",
       "    </tr>\n",
       "  </thead>\n",
       "  <tbody>\n",
       "    <tr>\n",
       "      <th>0</th>\n",
       "      <td>819952</td>\n",
       "      <td>UI тесты по заказу \"Добро КейДжи\"</td>\n",
       "      <td></td>\n",
       "    </tr>\n",
       "    <tr>\n",
       "      <th>1</th>\n",
       "      <td>819949</td>\n",
       "      <td>UI тесты раздела \"Профиль\"</td>\n",
       "      <td>Приверила и приняла MR\\n\\n .</td>\n",
       "    </tr>\n",
       "    <tr>\n",
       "      <th>2</th>\n",
       "      <td>819947</td>\n",
       "      <td>UI тесты раздела \"Личный счет\"</td>\n",
       "      <td></td>\n",
       "    </tr>\n",
       "  </tbody>\n",
       "</table>\n",
       "</div>"
      ],
      "text/plain": [
       "       id                            summary                       comments\n",
       "0  819952  UI тесты по заказу \"Добро КейДжи\"                               \n",
       "1  819949         UI тесты раздела \"Профиль\"  Приверила и приняла MR\\n\\n . \n",
       "2  819947     UI тесты раздела \"Личный счет\"                               "
      ]
     },
     "execution_count": 48,
     "metadata": {},
     "output_type": "execute_result"
    }
   ],
   "source": [
    "# load\n",
    "train_df = pd.read_csv(\"./data/train_issues.csv\")\n",
    "train_comment_df = pd.read_csv(\"./data/train_comments.csv\")\n",
    "test_df = pd.read_csv(\"./data/test_issues.csv\")\n",
    "test_comment_df = pd.read_csv(\"./data/test_comments.csv\")\n",
    "emp_df = pd.read_csv(\"./data/employees.csv\")\n",
    "solution_df = pd.read_csv(\"./data/sample_solution.csv\")\n",
    "\n",
    "# add comments texts\n",
    "train_comment_df['text_padded'] = train_comment_df['text'] + '. '\n",
    "test_comment_df['text_padded'] = test_comment_df['text'] + '. '\n",
    "\n",
    "train_df = train_df.merge(train_comment_df.groupby(['issue_id'], as_index = False)['text_padded'].sum()\\\n",
    "    .rename(columns = {'text_padded':'comments', 'issue_id':'id'}), on = ['id'], how = 'left', validate = '1:1')\n",
    "\n",
    "test_df = test_df.merge(test_comment_df.groupby(['issue_id'], as_index = False)['text_padded'].sum()\\\n",
    "    .rename(columns = {'text_padded':'comments', 'issue_id':'id'}), on = ['id'], how = 'left', validate = '1:1')\n",
    "\n",
    "# combine train / test\n",
    "data_df = train_df.append(test_df, ignore_index = True)[['id', 'summary', 'comments']]\n",
    "data_df['comments'].fillna('', inplace = True)\n",
    "data_df.head(3)"
   ]
  },
  {
   "cell_type": "code",
   "execution_count": 54,
   "metadata": {
    "scrolled": true
   },
   "outputs": [],
   "source": [
    "# detect language\n",
    "def fix_lang(x):\n",
    "    if x in ['ru', 'bg', 'mk', 'uk']:\n",
    "        return 'ru'\n",
    "    elif x in ['vi']:\n",
    "        return 'vi'\n",
    "    return 'en'\n",
    "\n",
    "data_df['summary_lang'] = data_df['summary'].map(lambda x: detect(x))\n",
    "data_df['summary_lang_fix'] = data_df['summary_lang'].map(lambda x: fix_lang(x))\n",
    "\n",
    "# errors here\n",
    "# data_df['comments_lang'] = data_df['comments'].map(lambda x: detect(x) if x.strip() != '' else None)\n",
    "# data_df['comments_lang_fix'] = data_df['comments_lang'].map(lambda x: fix_lang(x) if x is not None else None)"
   ]
  },
  {
   "cell_type": "code",
   "execution_count": 57,
   "metadata": {},
   "outputs": [
    {
     "name": "stderr",
     "output_type": "stream",
     "text": [
      "100%|██████████| 1625/1625 [16:49<00:00,  1.61it/s]\n"
     ]
    }
   ],
   "source": [
    "# translate summary\n",
    "result = []\n",
    "todo_df = data_df[data_df['summary_lang_fix'] != 'en']\n",
    "for i, row in tqdm.tqdm(todo_df.iterrows(), total = todo_df.shape[0]):\n",
    "    \n",
    "    summary_text = row['summary']\n",
    "    summary_text_translated = GoogleTranslator(source='auto', target='en').translate(summary_text)\n",
    "    \n",
    "    result.append([row['id'], summary_text_translated])"
   ]
  },
  {
   "cell_type": "code",
   "execution_count": 58,
   "metadata": {},
   "outputs": [],
   "source": [
    "# merge\n",
    "result_df = pd.DataFrame(result, columns = ['id', 'summary_translated'])\n",
    "data_df = data_df.merge(result_df, on = ['id'], how = 'left', validate = '1:1')\n",
    "data_df['summary_translated'].fillna(data_df['summary'], inplace = True)"
   ]
  },
  {
   "cell_type": "code",
   "execution_count": 67,
   "metadata": {},
   "outputs": [],
   "source": [
    "# save\n",
    "data_df[['id', 'summary_lang', 'summary_lang_fix', 'summary_translated']]\\\n",
    "    .to_csv('./data/summary_translated.csv', index = False)"
   ]
  },
  {
   "cell_type": "code",
   "execution_count": null,
   "metadata": {},
   "outputs": [],
   "source": []
  }
 ],
 "metadata": {
  "colab": {
   "provenance": []
  },
  "kernelspec": {
   "display_name": "Python 3",
   "language": "python",
   "name": "python3"
  },
  "language_info": {
   "codemirror_mode": {
    "name": "ipython",
    "version": 3
   },
   "file_extension": ".py",
   "mimetype": "text/x-python",
   "name": "python",
   "nbconvert_exporter": "python",
   "pygments_lexer": "ipython3",
   "version": "3.6.8"
  },
  "toc": {
   "base_numbering": 1,
   "nav_menu": {},
   "number_sections": true,
   "sideBar": true,
   "skip_h1_title": false,
   "title_cell": "Table of Contents",
   "title_sidebar": "Contents",
   "toc_cell": false,
   "toc_position": {},
   "toc_section_display": true,
   "toc_window_display": false
  }
 },
 "nbformat": 4,
 "nbformat_minor": 1
}
